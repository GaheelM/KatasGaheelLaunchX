{
 "cells": [
  {
   "cell_type": "markdown",
   "metadata": {},
   "source": [
    "## Ejercicio 1\n"
   ]
  },
  {
   "cell_type": "code",
   "execution_count": 5,
   "metadata": {},
   "outputs": [
    {
     "name": "stdout",
     "output_type": "stream",
     "text": [
      "Informe de combustibles.\n",
      "    El tanque principal cuenta con: 70%\n",
      "    El tanque externo cuenta con: 65%\n",
      "    El tanque de Hidrogeno cuenta con: 60%\n",
      "    El promedio de los 3 tanques es: 65.0%\n",
      "    \n"
     ]
    }
   ],
   "source": [
    "def promedio(values):\n",
    "    total = sum(values)\n",
    "    numero_tanques = len(values)\n",
    "    return total/numero_tanques\n",
    "\n",
    "def combustibles(tanque1, tanque2, tanque3):\n",
    "    return f'''Informe de combustibles.\n",
    "    El tanque principal cuenta con: {tanque1}%\n",
    "    El tanque externo cuenta con: {tanque2}%\n",
    "    El tanque de Hidrogeno cuenta con: {tanque3}%\n",
    "    El promedio de los 3 tanques es: {promedio([tanque1,tanque2,tanque3])}%\n",
    "    '''\n",
    "\n",
    "print(combustibles(70,65,60))"
   ]
  },
  {
   "cell_type": "markdown",
   "metadata": {},
   "source": [
    "## Ejercicio 2"
   ]
  },
  {
   "cell_type": "code",
   "execution_count": 10,
   "metadata": {},
   "outputs": [
    {
     "name": "stdout",
     "output_type": "stream",
     "text": [
      "\n",
      "    Mision con destino a Luna\n",
      "    Tiempo total de viaje: 76 minutos\n",
      "    Total de combustible disponible: 500000\n",
      "    Tanque Principal con 300000 litros. Tanque externo con 200000 litros. \n"
     ]
    }
   ],
   "source": [
    "\n",
    "def informe(destino, *minutos, **tanques):\n",
    "    reporteprin = f'''\n",
    "    Mision con destino a {destino}\n",
    "    Tiempo total de viaje: {sum(minutos)} minutos\n",
    "    Total de combustible disponible: {sum(tanques.values())}\n",
    "    '''\n",
    "    for nombretanques, cantidad in tanques.items():\n",
    "        reporteprin += f'Tanque {nombretanques} con {cantidad} litros. '\n",
    "    return reporteprin\n",
    "\n",
    "\n",
    "print(informe(\"Luna\", 10, 15, 51, Principal=300000, externo=200000))"
   ]
  }
 ],
 "metadata": {
  "interpreter": {
   "hash": "38d51dd8e8d25c2b4859ddf5fde4d8615b38902fd48d30a19bf46ddb81d406a6"
  },
  "kernelspec": {
   "display_name": "Python 3.9.10 64-bit (windows store)",
   "language": "python",
   "name": "python3"
  },
  "language_info": {
   "codemirror_mode": {
    "name": "ipython",
    "version": 3
   },
   "file_extension": ".py",
   "mimetype": "text/x-python",
   "name": "python",
   "nbconvert_exporter": "python",
   "pygments_lexer": "ipython3",
   "version": "3.9.10"
  },
  "orig_nbformat": 4
 },
 "nbformat": 4,
 "nbformat_minor": 2
}
