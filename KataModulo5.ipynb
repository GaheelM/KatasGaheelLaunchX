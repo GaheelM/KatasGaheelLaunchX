{
 "cells": [
  {
   "cell_type": "markdown",
   "metadata": {},
   "source": [
    "## Ejercicio 1"
   ]
  },
  {
   "cell_type": "code",
   "execution_count": 5,
   "metadata": {},
   "outputs": [
    {
     "name": "stdout",
     "output_type": "stream",
     "text": [
      "La distancia en kilometros es de:  628949330 km\n",
      "La distancia en millas es de:  390577533.93 mi\n"
     ]
    }
   ],
   "source": [
    "planeta1 = 149597870 \n",
    "planeta2 = 778547200\n",
    "\n",
    "distancia = planeta2 - planeta1\n",
    "distanciamillas = distancia*0.621\n",
    "\n",
    "print(\"La distancia en kilometros es de: \" , distancia, \"km\")\n",
    "\n",
    "print(\"La distancia en millas es de: \" , distanciamillas , \"mi\")"
   ]
  },
  {
   "cell_type": "markdown",
   "metadata": {},
   "source": [
    "## Ejercicio 2\n"
   ]
  },
  {
   "cell_type": "code",
   "execution_count": 7,
   "metadata": {},
   "outputs": [
    {
     "name": "stdout",
     "output_type": "stream",
     "text": [
      "La distancia en kilometros es de:  91700000 km\n",
      "La distancia en millas es de:  56945700 mi\n"
     ]
    }
   ],
   "source": [
    "planeta1 = input(\"Defina la primera distancia del planeta en Km\")\n",
    "planeta2 = input(\"Defina la segunda distancia del planeta en Km\")\n",
    "\n",
    "distancia = int(planeta2) - int(planeta1)\n",
    "distanciamillas = int(distancia*0.621)\n",
    "\n",
    "print(\"La distancia en kilometros es de: \" , abs(distancia), \"km\")\n",
    "\n",
    "print(\"La distancia en millas es de: \" , abs(distanciamillas) , \"mi\")"
   ]
  }
 ],
 "metadata": {
  "interpreter": {
   "hash": "38d51dd8e8d25c2b4859ddf5fde4d8615b38902fd48d30a19bf46ddb81d406a6"
  },
  "kernelspec": {
   "display_name": "Python 3.9.10 64-bit (windows store)",
   "language": "python",
   "name": "python3"
  },
  "language_info": {
   "codemirror_mode": {
    "name": "ipython",
    "version": 3
   },
   "file_extension": ".py",
   "mimetype": "text/x-python",
   "name": "python",
   "nbconvert_exporter": "python",
   "pygments_lexer": "ipython3",
   "version": "3.9.10"
  },
  "orig_nbformat": 4
 },
 "nbformat": 4,
 "nbformat_minor": 2
}
