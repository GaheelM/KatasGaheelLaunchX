{
 "cells": [
  {
   "cell_type": "markdown",
   "metadata": {},
   "source": [
    "## Asteroides\n"
   ]
  },
  {
   "cell_type": "code",
   "execution_count": 12,
   "metadata": {},
   "outputs": [
    {
     "name": "stdout",
     "output_type": "stream",
     "text": [
      "¡Todo está bien! Que tengas un buen día\n"
     ]
    }
   ],
   "source": [
    "Asteroide = input(\"¿A qué velocidad viaja el Asteroide? \")\n",
    "\n",
    "if float(Asteroide) > 25:\n",
    "    print(\"¡Alerta! La velocidad del asteroide es peligrosa\")\n",
    "else:\n",
    "    print(\"¡Todo está bien! Que tengas un buen día\")\n"
   ]
  },
  {
   "cell_type": "markdown",
   "metadata": {},
   "source": [
    "## Asteroides 2"
   ]
  },
  {
   "cell_type": "code",
   "execution_count": 15,
   "metadata": {},
   "outputs": [
    {
     "name": "stdout",
     "output_type": "stream",
     "text": [
      "¡Observen el cielo! En este momento se puede observar un rayo de luz\n"
     ]
    }
   ],
   "source": [
    "Asteroide = input(\"¿A qué velocidad viaja el Asteroide? \")\n",
    "\n",
    "if float(Asteroide) > 20:\n",
    "    print(\"¡Observen el cielo! En este momento se puede observar un rayo de luz\")\n",
    "elif float(Asteroide) == 20:\n",
    "    print(\"¡Observen el cielo! En este momento se puede observar un rayo de luz\")\n",
    "else:\n",
    "    print(\"En este momento no es posible observar un rayo de luz en el cielo\")\n"
   ]
  },
  {
   "cell_type": "markdown",
   "metadata": {},
   "source": [
    "## Asteroides 3"
   ]
  },
  {
   "cell_type": "code",
   "execution_count": 23,
   "metadata": {},
   "outputs": [
    {
     "name": "stdout",
     "output_type": "stream",
     "text": [
      "¡No hay de qué preocuparte! Por favor continúa con tu día.\n"
     ]
    }
   ],
   "source": [
    "VelAsteroide = input(\"¿A qué velocidad viaja el Asteroide? \")\n",
    "TamAsteroide = input(\"¿De qué tamaño es el Asteroide? \")\n",
    "\n",
    "if float(VelAsteroide) > 25 and float(TamAsteroide) > 25:\n",
    "    print(\"¡Alerta! El tamaño y la velocidad del asteroide es peligrosa\")\n",
    "elif float(VelAsteroide) >= 20:\n",
    "    print(\"¡Observen el cielo! En este momento se puede observar un rayo de luz\")\n",
    "elif float(TamAsteroide) < 25:\n",
    "    print(\"¡No hay de qué preocuparte! Por favor continúa con tu día.\")\n",
    "else:\n",
    "    print(\"¡No hay de qué preocuparte! Por favor continúa con tu día.\")\n"
   ]
  }
 ],
 "metadata": {
  "interpreter": {
   "hash": "38d51dd8e8d25c2b4859ddf5fde4d8615b38902fd48d30a19bf46ddb81d406a6"
  },
  "kernelspec": {
   "display_name": "Python 3.9.10 64-bit (windows store)",
   "language": "python",
   "name": "python3"
  },
  "language_info": {
   "codemirror_mode": {
    "name": "ipython",
    "version": 3
   },
   "file_extension": ".py",
   "mimetype": "text/x-python",
   "name": "python",
   "nbconvert_exporter": "python",
   "pygments_lexer": "ipython3",
   "version": "3.9.10"
  },
  "orig_nbformat": 4
 },
 "nbformat": 4,
 "nbformat_minor": 2
}
